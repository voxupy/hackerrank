{
 "cells": [
  {
   "cell_type": "code",
   "execution_count": 2,
   "outputs": [
    {
     "data": {
      "text/plain": "'C:\\\\Users\\\\voxu9\\\\python-pycharm'"
     },
     "execution_count": 2,
     "metadata": {},
     "output_type": "execute_result"
    }
   ],
   "source": [
    "import os\n",
    "os.getcwd()"
   ],
   "metadata": {
    "collapsed": false,
    "pycharm": {
     "name": "#%%\n"
    }
   }
  },
  {
   "cell_type": "code",
   "execution_count": 1,
   "outputs": [
    {
     "name": "stdout",
     "output_type": "stream",
     "text": [
      "1c6Rufs%pd\n"
     ]
    }
   ],
   "source": [
    "import string\n",
    "#To jest moja wersja generatora haseł stworzona przeze mnie kurba elo elo                                                  \n",
    "characters = list(string.ascii_uppercase + string.ascii_lowercase + string.digits)\n",
    "specials = \"!@#$%^&*()\"\n",
    "\n",
    "def password_generator(size):\n",
    "    import random\n",
    "    password = []\n",
    "    random.shuffle(characters)\n",
    "\n",
    "    for i in range(size-1):\n",
    "        password.append(random.choice(characters))\n",
    "\n",
    "    password.append(random.choice(specials))\n",
    "    random.shuffle(password)\n",
    "\n",
    "    print(\"\".join(password))\n",
    "\n",
    "\n",
    "password_generator(10)"
   ],
   "metadata": {
    "collapsed": false,
    "pycharm": {
     "name": "#%%\n"
    }
   }
  },
  {
   "cell_type": "code",
   "execution_count": 46,
   "outputs": [
    {
     "data": {
      "text/plain": "'u;MbAKZX'"
     },
     "execution_count": 46,
     "metadata": {},
     "output_type": "execute_result"
    }
   ],
   "source": [
    "#Hello moim nowym zadaniem bedzie zrobienie czegos fajnego\n",
    "import random, string\n",
    "\n",
    "chars = list(string.ascii_lowercase + string.ascii_uppercase + string.digits)\n",
    "specials = string.punctuation\n",
    "\n",
    "def password_gen( size):\n",
    "    password = []\n",
    "    \n",
    "    random.shuffle(chars)\n",
    "    \n",
    "    for i in range(size-1):\n",
    "        password +=  chars[i]\n",
    "\n",
    "    password.append(random.choice(specials))\n",
    "    random.shuffle(password)\n",
    "    return \"\".join(password)\n",
    "\n",
    "password_gen(8)"
   ],
   "metadata": {
    "collapsed": false,
    "pycharm": {
     "name": "#%%\n"
    }
   }
  },
  {
   "cell_type": "code",
   "execution_count": 14,
   "outputs": [
    {
     "data": {
      "text/plain": "3"
     },
     "execution_count": 14,
     "metadata": {},
     "output_type": "execute_result"
    }
   ],
   "source": [
    "import random\n",
    "from collections import Counter\n",
    "\n",
    "#n - ile jest skarpet\n",
    "#x - ile jest kolorów skarpet\n",
    "\n",
    "#jeśli już pogrupuje cyfry, dodam je do si\n",
    "\n",
    "def sales_by_match(n, x):\n",
    "    list = []\n",
    "    for item in range(n):\n",
    "        list.append(random.randint(1,x))\n",
    "\n",
    "    c = Counter(list)\n",
    "    pair = 0\n",
    "\n",
    "    for i in c.values():\n",
    "        int(i/2)\n",
    "        pair += 1\n",
    "\n",
    "    return pair\n",
    "\n",
    "sales_by_match(12,4)"
   ],
   "metadata": {
    "collapsed": false,
    "pycharm": {
     "name": "#%%\n"
    }
   }
  },
  {
   "cell_type": "code",
   "execution_count": null,
   "outputs": [],
   "source": [
    "\n",
    "def countingValleys(steps, path):\n",
    "    valley = 0\n",
    "    seaLevel = 0\n",
    "    for i in path:\n",
    "        if i == 'D':\n",
    "            seaLevel += 1\n",
    "        else:\n",
    "            seaLevel -= 1\n",
    "        if  i == 'U' and seaLevel == 0:\n",
    "            valley += 1\n",
    "\n",
    "    return valley\n",
    "\n",
    "\n",
    "print(countingValleys(8, 'UDDDUDUUDDUU'))"
   ],
   "metadata": {
    "collapsed": false,
    "pycharm": {
     "name": "#%%\n"
    }
   }
  },
  {
   "cell_type": "code",
   "execution_count": 80,
   "outputs": [
    {
     "name": "stdout",
     "output_type": "stream",
     "text": [
      "[1, 1, 5, 5, 7, 10]\n"
     ]
    }
   ],
   "source": [
    "s = \"twoja i z kotrłaa stara zapierdala\"\n",
    "x = list(s.split(\" \"))\n",
    "y = []\n",
    "for item in x:\n",
    "    y.append(len(item))\n",
    "y.sort()\n",
    "print(y)"
   ],
   "metadata": {
    "collapsed": false,
    "pycharm": {
     "name": "#%%\n"
    }
   }
  },
  {
   "cell_type": "code",
   "execution_count": 5,
   "outputs": [
    {
     "data": {
      "text/plain": "'(123) 456-7890'"
     },
     "execution_count": 5,
     "metadata": {},
     "output_type": "execute_result"
    }
   ],
   "source": [
    "#create_phone_number([1, 2, 3, 4, 5, 6, 7, 8, 9, 0]) # => returns \"(123) 456-7890\"\n",
    "\n",
    "def create_phone_number(n):\n",
    "    s = \"\"\n",
    "    for item in n:\n",
    "        s += str(item)\n",
    "    \n",
    "    return f\"({s[0:3]}) {s[3:6]}-{s[6:10]}\"\n",
    "\n",
    "\n",
    "create_phone_number([1, 2, 3, 4, 5, 6, 7, 8, 9, 0])"
   ],
   "metadata": {
    "collapsed": false,
    "pycharm": {
     "name": "#%%\n"
    }
   }
  },
  {
   "cell_type": "code",
   "execution_count": null,
   "outputs": [],
   "source": [],
   "metadata": {
    "collapsed": false,
    "pycharm": {
     "name": "#%%\n"
    }
   }
  },
  {
   "cell_type": "code",
   "execution_count": 21,
   "outputs": [
    {
     "data": {
      "text/plain": "['Open', 'Open', 'Senior', 'Open', 'Open', 'Senior']"
     },
     "execution_count": 21,
     "metadata": {},
     "output_type": "execute_result"
    }
   ],
   "source": [
    "\n",
    "def open_or_senior(data):\n",
    "    return ['Senior' if person[0] >= 55 and person[1] > 7 else 'Open' for person in data]\n",
    "\n",
    "\n",
    "input =  [(18, 20), [45, 2], [61, 12], [37, 6], [21, 21], [78, 9]]\n",
    "input2 = [(16, 23),(73,1),(56, 20),(1, -1)]\n",
    "open_or_senior(input)"
   ],
   "metadata": {
    "collapsed": false,
    "pycharm": {
     "name": "#%%\n"
    }
   }
  },
  {
   "cell_type": "code",
   "execution_count": 1,
   "outputs": [
    {
     "data": {
      "text/plain": "(264, 153)"
     },
     "execution_count": 1,
     "metadata": {},
     "output_type": "execute_result"
    }
   ],
   "source": [
    "def even_and_odd(n):\n",
    "    NE = \"\" #parzyste\n",
    "    NO = \"\" #nieparzyste\n",
    "\n",
    "    for number in str(n):\n",
    "        if int(number) % 2 == 0:\n",
    "            NE += str(number)\n",
    "        else:\n",
    "            NO += str(number)\n",
    "\n",
    "    if len(NE) > 1 and NE[0] == \"0\":\n",
    "         return int(NE[1:]),int(NO)\n",
    "    elif NE == \"0\":\n",
    "        return int(NE),int(NO)\n",
    "    else:\n",
    "        return int(NE), int(NO)\n",
    "\n",
    "#input\tNE\tNO\n",
    "#126453\t264\t153\n",
    "#3012\t2\t31\n",
    "#4628\t4628\t0\n",
    "even_and_odd(126453)"
   ],
   "metadata": {
    "collapsed": false,
    "pycharm": {
     "name": "#%%\n"
    }
   }
  },
  {
   "cell_type": "code",
   "execution_count": null,
   "outputs": [],
   "source": [
    "from math import sqrt\n",
    "def is_square(n):\n",
    "    return sqrt(n) % 1 == 0\n",
    "\n",
    "\n",
    "is_square(0)\n",
    "\n",
    "#-1  =>  false\n",
    "# 0  =>  true\n",
    " #3  =>  false\n",
    "# 4  =>  true\n",
    "#25  =>  true\n",
    "#26  =>  false"
   ],
   "metadata": {
    "collapsed": false,
    "pycharm": {
     "name": "#%%\n"
    }
   }
  },
  {
   "cell_type": "code",
   "execution_count": 30,
   "outputs": [
    {
     "data": {
      "text/plain": "['b', 'c', 'd']"
     },
     "execution_count": 30,
     "metadata": {},
     "output_type": "execute_result"
    }
   ],
   "source": [
    "lista = ['a','b','c','d','e','f','g','h','i','j']\n",
    "\n",
    "indeks_od = 1\n",
    "indeks_do = 4\n",
    "\n",
    "lista[indeks_od:indeks_do]"
   ],
   "metadata": {
    "collapsed": false,
    "pycharm": {
     "name": "#%%\n"
    }
   }
  }
 ],
 "metadata": {
  "kernelspec": {
   "display_name": "Python 3",
   "language": "python",
   "name": "python3"
  },
  "language_info": {
   "codemirror_mode": {
    "name": "ipython",
    "version": 2
   },
   "file_extension": ".py",
   "mimetype": "text/x-python",
   "name": "python",
   "nbconvert_exporter": "python",
   "pygments_lexer": "ipython2",
   "version": "2.7.6"
  }
 },
 "nbformat": 4,
 "nbformat_minor": 0
}