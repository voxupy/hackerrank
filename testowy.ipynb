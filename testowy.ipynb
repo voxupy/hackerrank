{
 "cells": [
  {
   "cell_type": "code",
   "execution_count": 2,
   "outputs": [
    {
     "data": {
      "text/plain": "'C:\\\\Users\\\\voxu9\\\\python-pycharm'"
     },
     "execution_count": 2,
     "metadata": {},
     "output_type": "execute_result"
    }
   ],
   "source": [
    "import os\n",
    "os.getcwd()"
   ],
   "metadata": {
    "collapsed": false,
    "pycharm": {
     "name": "#%%\n"
    }
   }
  },
  {
   "cell_type": "code",
   "execution_count": 1,
   "outputs": [
    {
     "name": "stdout",
     "output_type": "stream",
     "text": [
      "1c6Rufs%pd\n"
     ]
    }
   ],
   "source": [
    "import string\n",
    "#To jest moja wersja generatora haseł stworzona przeze mnie kurba elo elo                                                  \n",
    "characters = list(string.ascii_uppercase + string.ascii_lowercase + string.digits)\n",
    "specials = \"!@#$%^&*()\"\n",
    "\n",
    "def password_generator(size):\n",
    "    import random\n",
    "    password = []\n",
    "    random.shuffle(characters)\n",
    "\n",
    "    for i in range(size-1):\n",
    "        password.append(random.choice(characters))\n",
    "\n",
    "    password.append(random.choice(specials))\n",
    "    random.shuffle(password)\n",
    "\n",
    "    print(\"\".join(password))\n",
    "\n",
    "\n",
    "password_generator(10)"
   ],
   "metadata": {
    "collapsed": false,
    "pycharm": {
     "name": "#%%\n"
    }
   }
  },
  {
   "cell_type": "code",
   "execution_count": 46,
   "outputs": [
    {
     "data": {
      "text/plain": "'u;MbAKZX'"
     },
     "execution_count": 46,
     "metadata": {},
     "output_type": "execute_result"
    }
   ],
   "source": [
    "#Hello moim nowym zadaniem bedzie zrobienie czegos fajnego\n",
    "import random, string\n",
    "\n",
    "chars = list(string.ascii_lowercase + string.ascii_uppercase + string.digits)\n",
    "specials = string.punctuation\n",
    "\n",
    "def password_gen( size):\n",
    "    password = []\n",
    "    \n",
    "    random.shuffle(chars)\n",
    "    \n",
    "    for i in range(size-1):\n",
    "        password +=  chars[i]\n",
    "\n",
    "    password.append(random.choice(specials))\n",
    "    random.shuffle(password)\n",
    "    return \"\".join(password)\n",
    "\n",
    "password_gen(8)"
   ],
   "metadata": {
    "collapsed": false,
    "pycharm": {
     "name": "#%%\n"
    }
   }
  },
  {
   "cell_type": "code",
   "execution_count": 14,
   "outputs": [
    {
     "data": {
      "text/plain": "3"
     },
     "execution_count": 14,
     "metadata": {},
     "output_type": "execute_result"
    }
   ],
   "source": [
    "import random\n",
    "from collections import Counter\n",
    "\n",
    "#n - ile jest skarpet\n",
    "#x - ile jest kolorów skarpet\n",
    "\n",
    "#jeśli już pogrupuje cyfry, dodam je do si\n",
    "\n",
    "def sales_by_match(n, x):\n",
    "    list = []\n",
    "    for item in range(n):\n",
    "        list.append(random.randint(1,x))\n",
    "\n",
    "    c = Counter(list)\n",
    "    pair = 0\n",
    "\n",
    "    for i in c.values():\n",
    "        int(i/2)\n",
    "        pair += 1\n",
    "\n",
    "    return pair\n",
    "\n",
    "sales_by_match(12,4)"
   ],
   "metadata": {
    "collapsed": false,
    "pycharm": {
     "name": "#%%\n"
    }
   }
  },
  {
   "cell_type": "code",
   "execution_count": 3,
   "outputs": [
    {
     "name": "stdout",
     "output_type": "stream",
     "text": [
      "2\n"
     ]
    }
   ],
   "source": [
    "\n",
    "def countingValleys(steps, path):\n",
    "    valley = 0\n",
    "    seaLevel = 0\n",
    "    for i in path:\n",
    "        if i == 'D':\n",
    "            seaLevel += 1\n",
    "        else:\n",
    "            seaLevel -= 1\n",
    "        if  i == 'U' and seaLevel == 0:\n",
    "            valley += 1\n",
    "\n",
    "    return valley\n",
    "\n",
    "\n",
    "print(countingValleys(8, 'UDDDUDUUDDUU'))"
   ],
   "metadata": {
    "collapsed": false,
    "pycharm": {
     "name": "#%%\n"
    }
   }
  }
 ],
 "metadata": {
  "kernelspec": {
   "display_name": "Python 3",
   "language": "python",
   "name": "python3"
  },
  "language_info": {
   "codemirror_mode": {
    "name": "ipython",
    "version": 2
   },
   "file_extension": ".py",
   "mimetype": "text/x-python",
   "name": "python",
   "nbconvert_exporter": "python",
   "pygments_lexer": "ipython2",
   "version": "2.7.6"
  }
 },
 "nbformat": 4,
 "nbformat_minor": 0
}